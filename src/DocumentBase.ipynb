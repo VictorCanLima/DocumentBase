{
 "cells": [
  {
   "cell_type": "markdown",
   "id": "6c4a94a2",
   "metadata": {},
   "source": [
    "<center>\n",
    "    <h1>Document Base</h1> \n",
    "    <h2>Final Project</h2> \n",
    "    <br>\n",
    "    <h3>Victor A. Canales Lima, Francisco Marmolejo Martell and Garret R. De La Cruz Tadeo</h3> \n",
    "    <h3>Computer Systems Engineering</h3> \n",
    "    <h3>LIS3012-1 Advanced Databases</h3> \n",
    "    <h3>Professor Jose L. Zechinelli Martini</h3> \n",
    "    <h3>Department of Computing, Electronics and Mechatronics</h3> \n",
    "    <h3>Universidad de las Americas Puebla, San Andres Cholula, Puebla, Mexico</h3> \n",
    "</center>"
   ]
  },
  {
   "cell_type": "markdown",
   "id": "636a4fa4",
   "metadata": {},
   "source": [
    "# Setting the System"
   ]
  },
  {
   "cell_type": "code",
   "execution_count": 1,
   "id": "f1cd1ddb",
   "metadata": {},
   "outputs": [],
   "source": [
    "from stem import lemma as lemantizice\n",
    "from indexing import Indexing\n",
    "from db_interface import BD_Connection\n",
    "import ipywidgets as widgets\n",
    "bd_connection = BD_Connection()"
   ]
  },
  {
   "cell_type": "markdown",
   "id": "b125ccaa",
   "metadata": {},
   "source": [
    "## Initializing the Database"
   ]
  },
  {
   "cell_type": "code",
   "execution_count": 2,
   "id": "b29fbc93",
   "metadata": {},
   "outputs": [],
   "source": [
    "bd_connection.create_tables()\n",
    "bd_connection.upload_documents()"
   ]
  },
  {
   "cell_type": "markdown",
   "id": "f66c6f42",
   "metadata": {},
   "source": [
    "## Setting the known terms of our Document Base and building Original Frquency Matrix"
   ]
  },
  {
   "cell_type": "code",
   "execution_count": 3,
   "id": "a05bb756",
   "metadata": {},
   "outputs": [
    {
     "name": "stdout",
     "output_type": "stream",
     "text": [
      "(('potential', 'biological', 'activity', 'viburnum', 'stellato-tomentosum', 'v', 'plant', 'find', 'costa', 'rica', 'have', 'be', 'report', 'supplementation', 'v', 'extract', 'week', 'decrease', 'body', 'weight', 'gain', 'fat', 'weight', 'fast', 'glucose', 'insulin', 'homeostasis', 'model', 'assessment', 'insulin', 'resistance', 'homa-ir', 'triglyceride', 'level', 'high-fat', 'diet', 'hfd', '-fed', 'c57bl/6j', 'mouse', 'molecular', 'mechanism', 'underlie', 'anti-obesity', 'glucose-lowering', 'effect', 'vs', 'extract', 'be', 'investigate', 'vs', 'extract', 'suppress', 'adipocyte', 'hypertrophy', 'regulate', 'lipogenesis-related', 'ccaat/enhancer-binding', 'protein', 'α', 'c/ebpα', 'insulin', 'sensitivity-related', 'peroxisome', 'proliferator-activated', 'receptor', 'γ', 'pparg', 'expression', 'adipose', 'tissue', 'hepatic', 'steatosis', 'inhibit', 'c/ebpα', 'lipid', 'transport-related', 'fatty', 'acid', 'bind', 'protein', 'fabp4', 'expression', 'vs', 'extract', 'enhance', 'muscular', 'fatty', 'acid', 'β-oxidation-related', 'amp-activated', 'protein', 'kinase', 'ampk', 'pparα', 'expression', 'increase', 'pparg', 'level', 'vs', 'extract', 'contain', 'high', 'content', 'amentoflavone', 'amf', 'mg/g', 'extract', 'compare', 'other', 'viburnum', 'specie', 'amf', 'administration', 'decrease', 'cebpa', 'fabp4', 'level', 'improve', 'insulin', 'signaling-related', 'insulin', 'receptor', 'substrate', 'irs1', 'glucose', 'transporter', 'glut1', 'level', 'muscle', 'hfd-fed', 'mouse', 'study', 'elucidate', 'vivo', 'molecular', 'mechanism', 'amf', 'first', 'time', 'vs', 'extract', 'diminish', 'obesity', 'hyperglycemia', 'suppress', 'c/ebpα-mediated', 'lipogenesis', 'liver', 'enhance', 'pparα-mediated', 'fatty', 'acid', 'β-oxidation', 'muscle', 'pparγ-mediated', 'insulin', 'sensitivity', 'muscle'), ('background', 'obesity', 'have', 'triple', 'environment', 'be', 'become', 'obesogenic', 'study', 'investigate', 'change', 'population', 'weight', 'obesity', 'time', 'be', 'associate', 'genetic', 'predisposition', 'context', 'obesogenic', 'environment', 'decade', 'examine', 'robustness', 'finding', 'use', 'sibling', 'design', 'method', 'finding', 'total', 'individual', 'age', 'year', 'nord-trøndelag', 'region', 'participate', 'repeated', 'standardized', 'body', 'mass', 'index', 'bmi', 'measurement', 'be', 'genotyped', 'longitudinal', 'population-based', 'health', 'study', 'trøndelag', 'health', 'study', 'hunt', 'study', 'genotyping', 'required', 'survival', 'participation', 'hunt', 'study', 'linear', 'mixed', 'model', 'observation', 'nest', 'individual', 'be', 'use', 'model', 'association', 'genome-wide', 'polygenic', 'score', 'gps', 'bmi', 'bmi', 'generalize', 'estimate', 'equation', 'be', 'use', 'obesity', 'bmi', 'kg/m2', 'severe', 'obesity', 'bmi', 'kg/m2', 'increase', 'average', 'bmi', 'prevalence', 'obesity', 'be', 'steep', 'predispose', '35-year-old', 'men', 'prevalence', 'obesity', 'least', 'predisposed', 'tenth', 'increase', 'confidence', 'interval', 'ci', 'ci', 'predisposed', 'tenth', 'increase', 'ci', 'ci', 'woman', 'same', 'age', 'prevalence', 'obesity', 'least', 'predisposed', 'tenth', 'increase', 'ci', 'to1.5', 'ci', 'predisposed', 'tenth', 'increase', 'ci', 'ci', '35-year-old', 'men', 'woman', 'absolute', 'change', 'prevalence', 'obesity', 'be', 'percentage', 'point', 'ci', 'p', 'percentage', 'point', 'ci', 'p', 'great', 'predisposed', 'tenth', 'compare', 'least', 'predisposed', 'tenth', 'define', 'use', 'gps', 'bmi', 'corresponding', 'absolute', 'change', 'prevalence', 'severe', 'obesity', 'men', 'woman', 'be', 'percentage', 'point', 'ci', 'p', 'percentage', 'point', 'ci', 'p', 'great', 'predisposed', 'tenth', 'great', 'increase', 'bmi', 'predispose', 'individual', 'time', 'be', 'apparent', 'adjustment', 'family-level', 'confounding', 'use', 'sibling', 'design', 'key', 'limitation', 'include', 'low', 'survival', 'date', 'genetic', 'testing', 'old', 'cohort', 'apply', 'contemporary', 'genetic', 'score', 'past', 'time', 'period', 'future', 'research', 'validate', 'finding', 'use', 'polygenic', 'risk', 'construct', 'historical', 'data', 'conclusion', 'context', 'obesogenic', 'change', 'environment', 'decade', 'finding', 'reveal', 'grow', 'inequality', 'risk', 'obesity', 'severe', 'obesity', 'gps', 'tenth', 'result', 'suggest', 'obesity', 'be', 'heritable', 'trait', 'be', 'modifiable', 'environmental', 'factor', 'be', 'possible', 'identify', 'susceptible', 'environmental', 'change', 'have', 'gain', 'preventive', 'measure', 'effort', 'reverse', 'obesogenic', 'environment', 'benefit', 'whole', 'population', 'help', 'resolve', 'obesity', 'epidemic'), ('be', 'ongoing', 'scientific', 'debate', 'unhealthy', 'process', 'food', 'be', 'addictive', 'contribute', 'overeat', 'obesity', 'debate', 'series', 'identify', 'numerous', 'point', 'consensus', 'include', 'addictive-like', 'eat', 'exists', 'mechanism', 'implicate', 'substance-related', 'addictive', 'disorder', 'contribute', 'overeat', 'obesity', 'food', 'industry', 'practice', 'be', 'key', 'contributor', 'phenomenon', 'agree', 'obesity', 'multifaceted', 'condition', 'be', 'synonymous', 'addictive-like', 'eating', 'further', 'research', 'be', 'need', 'clarify', 'understanding', 'addictive-like', 'eating', 'disagreement', 'remain', 'regard', 'strength', 'evidence', 'process', 'food', 'be', 'addictive', 'appropriate', 'framework', 'conceptualize', 'addictive-like', 'eating', 'societal', 'implication', 'identify', 'unhealthy', 'process', 'food', 'addictive', 'highlight', 'future', 'research', 'need', 'address', 'exist', 'gap', 'scientific', 'literature', 'underlie', 'continue', 'controversy', 'most', 'need', 'scientific', 'consensus', 'measure', 'be', 'use', 'evaluate', 'process', 'food', 'be', 'addictive', 'author', 'publish', 'oxford', 'university', 'press', 'behalf', 'american', 'society', 'nutrition'), ('obesity', 'metabolic', 'syndrome', 'mets', 'be', 'public', 'health', 'problem', 'be', 'increase', 'assess', 'difference', 'lipid', 'profile', 'lipid', 'testing', 'thrombotic', 'inflammatory', 'parameter', 'oxidative', 'stress', 'index', 'overweight', 'obese', 'patient', 'mets', 'turkish', 'adult', 'population', 'include', 'obese', 'body', 'mass', 'index', 'bmi', 'kg/m', 'patient', 'mets', 'woman', 'men', 'mean', 'age', '±', 'year', 'overweight', 'bmi', '25-30', 'kg/m', 'individual', 'woman', 'men', 'mean', 'age', '±', 'year', 'control', 'group', 'mets', 'have', 'high', 'level', 'glycaemia', 'uric', 'acid', 'high-sensitivity', 'c-reactive', 'protein', 'homocysteine', 'fibrinogen', 'total', 'cholesterol', 'low-density', 'lipoprotein', 'cholesterol', 'ldl-c', 'triglyceride', 'small', 'dense', 'ldl', 'oxidize', 'ldl', 'apolipoprotein', 'b', 'apo', 'b', 'small', 'intermediate', 'high-density', 'lipoprotein', 'hdl', 'particle', 'oxidative', 'stress', 'index', 'low', 'level', 'hdl-cholesterol', 'hdl-c', 'apo', 'large', 'hdl', 'particle', 'conclusion', 'obesity', 'mets', 'increase', 'atherogenic', 'dyslipidemia', 'thrombotic', 'inflammatory', 'oxidative', 'stress', 'biomarkers', 'obesity', 'mets', 'decrease', 'protective', 'mechanism', 'atherosclerosis', 'least', 'try', 'prevent', 'overweight', 'individual', 'become', 'obese', 'mets'), ('background', 'prevalence', 'obesity', 'overweight', 'childhood', 'have', 'increase', 'past', 'decade', 'risk', 'factor', 'overweight', 'obesity', 'child', 'adolescent', 'be', 'study', 'objective', 'study', 'aim', 'reveal', 'prevalence', 'childhood', 'obesity', 'examine', 'relationship', 'socioeconomic', 'status', 's', 'z-body', 'mass', 'index', 'z-bmi', 'parental', 'obesity', 'dietary', 'intake', 'use', 'path', 'analysis', 'method', 'stratify', 'cluster', 'sampling', 'be', 'use', 'select', 'participant', 'age', 'year', 'avenue', 'region', 'urban', 'suburban', 'rural', 'area', 'path', 'analysis', 'be', 'conduct', 'examine', 'mediator', 's', 'z-bmi', 'result', 'prevalence', 'rate', 'overweight', 'obesity', 'be', 'be', 'correlate', 'father', 'education', 'level', 'family', 'income', 'birth', 'weight', 'parental', 'obesity', 'history', 'vegetable', 'intake', 'red', 'meat', 'intake', 'p', 'mediator', 'paternal', 'obesity', 'history', 'red', 'meat', 'intake', 'vegetable', 'intake', 'nutritional', 'supplement', 'be', 'observe', 'path', 'analysis', 'be', 'significant', 'p', 'adjusted', 'total', 'effect', 'z-bmi', 'be', 'significant', 'income', 'β', 'tot', 'p', 'father', 'education', 'β', 'tot', 'p', 'region', 'β', 'tot', 'p', 'total', 'mediation', 'effect', 'be', 'variable', 'account', 'z-bmi', 'variance', 'conclusion', 'prevalence', 'overweight/obesity', 'child', 'be', 'notable', 'relationship', 's', 'z-bmi', 'be', 'mediate', 'paternal', 'obesity', 'history', 'dietary', 'intake'), ('background', 'purpose', 'present', 'study', 'be', 'investigate', 'association', 'health-related', 'physical', 'fitness', 'performance', 'overweight/obesity', 'risk', 'taiwanese', 'healthy', 'old', 'adult', 'method', 'secondary', 'dataset', 'nationwide', 'survey', 'be', 'apply', 'study', 'data', 'total', 'respondent', 'age', 'year', 'be', 'collect', 'study', 'demographic', 'characteristic', 'life', 'habit', 'perceive', 'health', 'status', 'anthropometric', 'assessment', 'health-related', 'physical', 'fitness', 'measurement', 'dataset', 'be', 'analyze', 'use', 'chi-square', 'test', 'one-way', 'analysis', 'variance', 'logistic', 'regression', 'analysis', 'result', 'result', 'indicate', 'overweight', 'obesity', 'associate', 'health-related', 'physical', 'fitness', 'performance', 'taiwanese', 'old', 'adult', 'population', 'particular', 'upper', 'extremity', 'muscular', 'endurance', 'score', 'old', 'adult', 'poor', 'activity', 'physical', 'fitness', 'score', 'reveal', 'obesity', 'critical', 'indicator', 'health-related', 'physical', 'fitness', 'performance', 'conclusion', 'future', 'study', 'use', 'muscle', 'quality', 'body', 'fat', 'classification', 'predict', 'obesity', 'old', 'adult', 'portray', 'relationship', 'obesity', 'health-related', 'physical', 'fitness', 'performance'), ('sars-cov-2', 'severe', 'acute', 'respiratory', 'syndrome', 'corona', 'virus-2', 'cause', 'covid-19', 'coronavirus', 'disease', 'represent', 'significant', 'risk', 'people', 'live', 'pre-existing', 'condition', 'associate', 'exacerbated', 'inflammatory', 'response', 'consequent', 'dysfunctional', 'immunity', 'paper', 'have', 'evaluate', 'influence', 'obesity', 'condition', 'associate', 'chronic', 'systemic', 'inflammation', 'secretion', 'sars-cov-2-specific', 'igg', 'antibody', 'blood', 'covid-19', 'patient', 'hypothesis', 'be', 'obesity', 'be', 'associate', 'reduced', 'amount', 'specific', 'igg', 'antibody', 'result', 'have', 'confirm', 'hypothesis', 'have', 'show', 'sars-cov-2', 'igg', 'antibody', 'be', 'associate', 'body', 'mass', 'index', 'bmi', 'covid-19', 'obese', 'patient', 'expect', 'base', 'known', 'influence', 'obesity', 'humoral', 'immunity', 'antibody', 'covid-19', 'obese', 'patient', 'be', 'associate', 'serum', 'level', 'pro-inflammatory', 'metabolic', 'marker', 'inflammaging', 'pulmonary', 'inflammation', 'such', 'saa', 'serum', 'amyloid', 'protein', 'crp', 'c-reactive', 'protein', 'ferritin', 'associate', 'nefa', 'nonesterified', 'fatty', 'acid', 'result', 'help', 'identify', 'inflammatory', 'signature', 'strong', 'predictive', 'value', 'immune', 'dysfunction', 'inflammatory', 'marker', 'identify', 'be', 'target', 'improve', 'humoral', 'immunity', 'individual', 'obesity', 'individual', 'other', 'chronic', 'inflammatory', 'condition'), ('ovarian', 'cancer', 'be', 'seventh', 'common', 'cancer', 'woman', 'be', 'characterize', 'high', 'mortality', 'rate', 'aggressiveness', 'advanced', 'stage', 'time', 'diagnosis', 'be', 'nonhomogenous', 'group', 'neoplasm', 'molecular', 'basic', 'be', 'be', 'investigate', 'nowadays', 'golden', 'standard', 'treatment', 'be', 'debulking', 'cytoreductive', 'surgery', 'combine', 'platinum-based', 'chemotherapy', 'have', 'present', 'interaction', 'result', 'perspective', 'fatty', 'acid', 'transporter', 'glucose', 'transporter', 'ovarian', 'cancer', 'cell', 'study', 'have', 'show', 'association', 'lipid-rich', 'environment', 'cancer', 'progression', 'suggest', 'use', 'correspondent', 'transporter', 'inhibitor', 'promising', 'chemotherapeutic', 'agent', 'review', 'summarize', 'preclinical', 'clinical', 'study', 'highlight', 'role', 'fatty', 'acid', 'transport', 'protein', 'glucose', 'transporter', 'development', 'growth', 'metastasizing', 'potential', 'use', 'targeted', 'therapy', 'ovarian', 'cancer'), ('aim', 'cross-sectional', 'study', 'be', 'assess', 'prevalence', 'abnormal', 'weight', 'anthropometric', 'parameter', 'abnormal', 'blood', 'pressure', 'value', 'adolescent', 'poland', 'anthropometric', 'measurement', 'be', 'take', 'studied', 'age', 'group', 'correlation', 'value', 'blood', 'pressure', 'value', 'diagnosis', 'hypertension', 'be', 'analyze', 'main', 'aim', 'study', 'be', 'characterize', 'particular', 'age', 'group', 'select', 'population', 'student', 'age', 'year', 'be', 'examine', 'blood', 'pressure', 'anthropometric', 'value', 'include', 'height', 'weight', 'circumference', 'hip', 'abdomen', 'arm', 'skinfolds', 'back', 'arm', 'scapula', 'stomach', 'be', 'take', 'following', 'index', 'be', 'calculate', 'whr', 'waist', 'hip', 'ratio', 'waist', 'height', 'ratio', 'body', 'adiposity', 'index-hip', 'height', 'ratio', 'body', 'mass', 'index', 'mean', 'sbp', 'systolic', 'blood', 'pressure', 'be', 'standard', 'deviation', 'sd', 'mmhg', 'dbp', 'diastolic', 'blood', 'pressure', 'be', 'sd', 'mmhg', 'prevalence', 'hypertension', 'studied', 'group', 'be', 'boy', 'girl', 'prehypertension', 'be', 'present', 'boy', 'girl', 'prevalence', 'excess', 'body', 'weight', 'be', '-obesity', 'girl', 'boy', 'girl', 'boy', 'correlation', 'bmi', 'waist', 'hip', 'arm', 'circumference', 'subscapular', 'abdominal', 'skinfold', 'thickness', 'whtr', 'bai', 'be', 'r', 'r', 'r', 'r', 'r', 'r', 'r', 'p', 'significant', 'difference', 'p', 'sbp', 'dbp', 'value', 'depend', 'weight', 'category', 'define', 'bmi', 'be', 'observe', 'abnormal', 'blood', 'pressure', 'value', 'occur', 'tenth', 'abnormal', 'body', 'weight', 'quarter', 'studied', 'population', 'obese', 'overweight', 'child', 'have', 'high', 'sbp', 'dbp', 'value', 'compare', 'child', 'normal', 'body', 'weight'), ('background', 'recent', 'year', 'social', 'difference', 'overweight', 'obesity', 'have', 'become', 'pronounced', 'health', 'impact', 'assessment', 'provide', 'population-level', 'scenario', 'evaluation', 'change', 'disease', 'prevalence', 'risk', 'factor', 'objective', 'study', 'be', 'simulate', 'health', 'effect', 'reduce', 'prevalence', 'overweight', 'obesity', 'population', 'short', 'medium', 'education', 'method', 'dynamo-hia', 'tool', 'be', 'use', 'conduct', 'health', 'inequality', 'impact', 'assessment', 'future', 'reduce', 'disease', 'prevalence', 'ischemic', 'heart', 'disease', 'ihd', 'diabetes', 'stroke', 'multi-morbidity', 'change', 'life', 'expectancy', '2040-population', 'copenhagen', 'denmark', 'n', 'simulate', 'equalized', 'weight', 'scenario', 'prevalence', 'owob', 'population', 'short', 'medium', 'education', 'be', 'reduce', 'level', 'population', 'long', 'education', 'result', 'high', 'proportion', 'population', 'short', 'medium', 'education', 'be', 'owob', 'relative', 'population', 'long', 'education', 'have', 'high', 'prevalence', 'cardiometabolic', 'disease', 'equalized', 'weight', 'scenario', 'prevalence', 'diabetes', 'population', 'short', 'education', 'be', 'reduce', 'men', 'woman', 'life', 'expectancy', 'increase', 'year', 'woman', 'short', 'education', 'small', 'change', 'prevalence', 'life', 'expectancy', 'relate', 'stroke', 'ihd', 'be', 'observe', 'conclusion', 'reduce', 'prevalence', 'owob', 'population', 'short', 'medium', 'education', 'reduce', 'future', 'prevalence', 'cardiometabolic', 'disease', 'increase', 'life', 'expectancy', 'reduce', 'social', 'inequality', 'health', 'simulation', 'serve', 'reference', 'point', 'public', 'health', 'debate'))\n"
     ]
    }
   ],
   "source": [
    "raw_docs = bd_connection.get_raw_documents()\n",
    "\n",
    "def get_docs_tokens(raw_documents):\n",
    "    get_lemmas = lambda x: lemantizice(x)\n",
    "    documents_tokens = tuple(map(get_lemmas, raw_documents))\n",
    "    return documents_tokens\n",
    "\n",
    "def find_known_terms(documents_tokens):\n",
    "    known_terms = set([i for sub in documents_tokens for i in sub])\n",
    "    return known_terms\n",
    "\n",
    "def drive(raw_docs):\n",
    "    docs_tokens = get_docs_tokens(raw_docs)\n",
    "    known_terms = find_known_terms(docs_tokens)\n",
    "    indexer = Indexing(docs_tokens, known_terms)\n",
    "    return indexer, known_terms\n",
    "\n",
    "idx, terms = drive(raw_docs)\n",
    "\n",
    "#bd_connection.set_known_terms(terms)\n",
    "#bd_connection.save_matrix(idx.freq_mat)\n",
    "bd_connection.save_matrix(idx.lsi_freq_mat)\n",
    "bd_connection.save_matrix(idx.q_transformation)"
   ]
  },
  {
   "cell_type": "markdown",
   "id": "35b9b999",
   "metadata": {},
   "source": [
    "# First query type\n",
    "Choose two documents to compare"
   ]
  },
  {
   "cell_type": "code",
   "execution_count": 4,
   "id": "25ef60f1",
   "metadata": {
    "scrolled": true
   },
   "outputs": [
    {
     "name": "stdout",
     "output_type": "stream",
     "text": [
      "Select the First Document\n"
     ]
    },
    {
     "data": {
      "application/vnd.jupyter.widget-view+json": {
       "model_id": "607ce8460e214288bbddbb369e917816",
       "version_major": 2,
       "version_minor": 0
      },
      "text/plain": [
       "Dropdown(options=(('Document 1', 1), ('Document 2', 2), ('Document 3', 3), ('Document 4', 4), ('Document 5', 5…"
      ]
     },
     "metadata": {},
     "output_type": "display_data"
    },
    {
     "name": "stdout",
     "output_type": "stream",
     "text": [
      "Select the Second Document\n"
     ]
    },
    {
     "data": {
      "application/vnd.jupyter.widget-view+json": {
       "model_id": "a5e9e66375974ca1bfb84567ac5b9a3c",
       "version_major": 2,
       "version_minor": 0
      },
      "text/plain": [
       "Dropdown(index=1, options=(('Document 1', 1), ('Document 2', 2), ('Document 3', 3), ('Document 4', 4), ('Docum…"
      ]
     },
     "metadata": {},
     "output_type": "display_data"
    },
    {
     "data": {
      "application/vnd.jupyter.widget-view+json": {
       "model_id": "ed5ff40fc57f4991b51a04d80e93d056",
       "version_major": 2,
       "version_minor": 0
      },
      "text/plain": [
       "Button(button_style='primary', description='Submit', icon='search', style=ButtonStyle(), tooltip='Click me')"
      ]
     },
     "metadata": {},
     "output_type": "display_data"
    }
   ],
   "source": [
    "w = widgets.Dropdown(\n",
    "    options=[('Document 1', 1), ('Document 2', 2), ('Document 3', 3), ('Document 4', 4), ('Document 5', 5),\n",
    "            ('Document 6', 6), ('Document 7', 7), ('Document 8', 8), ('Document 9', 9), ('Document 10', 10)],\n",
    ")\n",
    "x = widgets.Dropdown(\n",
    "    options=[('Document 1', 1), ('Document 2', 2), ('Document 3', 3), ('Document 4', 4), ('Document 5', 5),\n",
    "            ('Document 6', 6), ('Document 7', 7), ('Document 8', 8), ('Document 9', 9), ('Document 10', 10)],\n",
    "    value= 2\n",
    ")\n",
    "\n",
    "print(\"Select the First Document\") \n",
    "display(w)\n",
    "print(\"Select the Second Document\") \n",
    "display(x) \n",
    "submit1 = widgets.Button(\n",
    "    description='Submit',\n",
    "    disabled=False,\n",
    "    button_style='primary',\n",
    "    tooltip='Click me',\n",
    "    icon='search'\n",
    ")\n",
    "def fnSearch1(e):\n",
    "    print('Selected Documents: ', w.value, x.value)\n",
    "submit1.on_click(fnSearch1)\n",
    "display(submit1)"
   ]
  },
  {
   "cell_type": "markdown",
   "id": "16ad2832",
   "metadata": {},
   "source": [
    "# Second query type\n",
    "Please enter a query"
   ]
  },
  {
   "cell_type": "code",
   "execution_count": 5,
   "id": "f41ca341",
   "metadata": {},
   "outputs": [
    {
     "data": {
      "application/vnd.jupyter.widget-view+json": {
       "model_id": "18cb3cb4a7804600bdeb92a819fbea4b",
       "version_major": 2,
       "version_minor": 0
      },
      "text/plain": [
       "Text(value='', description='Query:', placeholder='Enter query')"
      ]
     },
     "metadata": {},
     "output_type": "display_data"
    },
    {
     "data": {
      "application/vnd.jupyter.widget-view+json": {
       "model_id": "a605a56c131d410fa846c16f9434ad0c",
       "version_major": 2,
       "version_minor": 0
      },
      "text/plain": [
       "Button(button_style='info', description='Submit', icon='search', style=ButtonStyle(), tooltip='Click me')"
      ]
     },
     "metadata": {},
     "output_type": "display_data"
    }
   ],
   "source": [
    "a = widgets.Text(\n",
    "    placeholder='Enter query',\n",
    "    description='Query:',\n",
    "    disabled=False\n",
    ")\n",
    "display(a)\n",
    "submit2 = widgets.Button(\n",
    "    description='Submit',\n",
    "    disabled=False,\n",
    "    button_style='info',\n",
    "    tooltip='Click me',\n",
    "    icon='search'\n",
    ")\n",
    "def fnSearch2(e):\n",
    "    print('Query value: ', a.value)\n",
    "submit2.on_click(fnSearch2)\n",
    "display(submit2)"
   ]
  }
 ],
 "metadata": {
  "kernelspec": {
   "display_name": "Python 3",
   "language": "python",
   "name": "python3"
  },
  "language_info": {
   "codemirror_mode": {
    "name": "ipython",
    "version": 3
   },
   "file_extension": ".py",
   "mimetype": "text/x-python",
   "name": "python",
   "nbconvert_exporter": "python",
   "pygments_lexer": "ipython3",
   "version": "3.7.10"
  }
 },
 "nbformat": 4,
 "nbformat_minor": 5
}
